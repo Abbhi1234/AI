{
  "nbformat": 4,
  "nbformat_minor": 0,
  "metadata": {
    "colab": {
      "provenance": [],
      "authorship_tag": "ABX9TyNsgl8rdg0YnrEiduVeT70D",
      "include_colab_link": true
    },
    "kernelspec": {
      "name": "python3",
      "display_name": "Python 3"
    },
    "language_info": {
      "name": "python"
    }
  },
  "cells": [
    {
      "cell_type": "markdown",
      "metadata": {
        "id": "view-in-github",
        "colab_type": "text"
      },
      "source": [
        "<a href=\"https://colab.research.google.com/github/Abbhi1234/AI/blob/main/1BM22CS007_Week10_AlphaBeta_Pruning.ipynb\" target=\"_parent\"><img src=\"https://colab.research.google.com/assets/colab-badge.svg\" alt=\"Open In Colab\"/></a>"
      ]
    },
    {
      "cell_type": "code",
      "execution_count": 3,
      "metadata": {
        "colab": {
          "base_uri": "https://localhost:8080/"
        },
        "id": "_4m_fV1huvEz",
        "outputId": "1131c394-9307-4941-e36c-5863cd556835"
      },
      "outputs": [
        {
          "output_type": "stream",
          "name": "stdout",
          "text": [
            "The optimal value is : 10\n"
          ]
        }
      ],
      "source": [
        "\n",
        "MAX, MIN = 1000, -1000\n",
        "\n",
        "def minimax(depth, nodeIndex, maximizingPlayer,\n",
        "      values, alpha, beta):\n",
        "\n",
        "  if depth == 3:\n",
        "    return values[nodeIndex]\n",
        "\n",
        "  if maximizingPlayer:\n",
        "\n",
        "    best = MIN\n",
        "\n",
        "    for i in range(0, 2):\n",
        "\n",
        "      val = minimax(depth + 1, nodeIndex * 2 + i,\n",
        "            False, values, alpha, beta)\n",
        "      best = max(best, val)\n",
        "      alpha = max(alpha, best)\n",
        "\n",
        "      if beta <= alpha:\n",
        "        break\n",
        "\n",
        "    return best\n",
        "\n",
        "  else:\n",
        "    best = MAX\n",
        "\n",
        "    for i in range(0, 2):\n",
        "\n",
        "      val = minimax(depth + 1, nodeIndex * 2 + i,\n",
        "              True, values, alpha, beta)\n",
        "      best = min(best, val)\n",
        "      beta = min(beta, best)\n",
        "\n",
        "      if beta <= alpha:\n",
        "        break\n",
        "\n",
        "    return best\n",
        "\n",
        "if __name__ == \"__main__\":\n",
        "\n",
        "  values = [10,9,14,18,5,4,50,3]\n",
        "  print(\"The optimal value is :\", minimax(0, 0, True, values, MIN, MAX))\n",
        ""
      ]
    }
  ]
}