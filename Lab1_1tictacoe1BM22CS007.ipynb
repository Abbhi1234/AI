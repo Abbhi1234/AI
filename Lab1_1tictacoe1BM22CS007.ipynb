{
  "nbformat": 4,
  "nbformat_minor": 0,
  "metadata": {
    "colab": {
      "provenance": [],
      "authorship_tag": "ABX9TyPFVACkwcbQLOv/KZFAztK1",
      "include_colab_link": true
    },
    "kernelspec": {
      "name": "python3",
      "display_name": "Python 3"
    },
    "language_info": {
      "name": "python"
    }
  },
  "cells": [
    {
      "cell_type": "markdown",
      "metadata": {
        "id": "view-in-github",
        "colab_type": "text"
      },
      "source": [
        "<a href=\"https://colab.research.google.com/github/Abbhi1234/AI/blob/main/Lab1_1tictacoe1BM22CS007.ipynb\" target=\"_parent\"><img src=\"https://colab.research.google.com/assets/colab-badge.svg\" alt=\"Open In Colab\"/></a>"
      ]
    },
    {
      "cell_type": "code",
      "execution_count": null,
      "metadata": {
        "colab": {
          "base_uri": "https://localhost:8080/"
        },
        "id": "TEJ9a3C5Q362",
        "outputId": "456b359c-e424-46ba-a439-5ecd27c2f98e"
      },
      "outputs": [
        {
          "output_type": "stream",
          "name": "stdout",
          "text": [
            "-------------\n",
            "|   |   |   |\n",
            "-------------\n",
            "|   |   |   |\n",
            "-------------\n",
            "|   |   |   |\n",
            "-------------\n",
            "Enter your move (1-9): 1\n",
            "-------------\n",
            "| X |   |   |\n",
            "-------------\n",
            "|   |   |   |\n",
            "-------------\n",
            "|   |   |   |\n",
            "-------------\n",
            "-------------\n",
            "| X |   |   |\n",
            "-------------\n",
            "| O |   |   |\n",
            "-------------\n",
            "|   |   |   |\n",
            "-------------\n",
            "Enter your move (1-9): 5\n",
            "-------------\n",
            "| X |   |   |\n",
            "-------------\n",
            "| O | X |   |\n",
            "-------------\n",
            "|   |   |   |\n",
            "-------------\n",
            "-------------\n",
            "| X | O |   |\n",
            "-------------\n",
            "| O | X |   |\n",
            "-------------\n",
            "|   |   |   |\n",
            "-------------\n",
            "Enter your move (1-9): 9\n",
            "-------------\n",
            "| X | O |   |\n",
            "-------------\n",
            "| O | X |   |\n",
            "-------------\n",
            "|   |   | X |\n",
            "-------------\n",
            "X wins!\n"
          ]
        }
      ],
      "source": [
        "import random\n",
        "\n",
        "def create_board():\n",
        "  return [\" \" for _ in range(9)]\n",
        "\n",
        "def display_board(board):\n",
        "  print(\"-------------\")\n",
        "  for i in range(3):\n",
        "    print(\"|\", board[i * 3], \"|\", board[i * 3 + 1], \"|\", board[i * 3 + 2], \"|\")\n",
        "    print(\"-------------\")\n",
        "\n",
        "def get_player_move(board):\n",
        "  while True:\n",
        "    try:\n",
        "      move = int(input(\"Enter your move (1-9): \")) - 1\n",
        "      if 0 <= move <= 8 and board[move] == \" \":\n",
        "        return move\n",
        "      else:\n",
        "        print(\"Invalid move. Try again.\")\n",
        "    except ValueError:\n",
        "      print(\"Invalid input. Enter a number between 1 and 9.\")\n",
        "\n",
        "def get_computer_move(board):\n",
        "  possible_moves = [i for i in range(9) if board[i] == \" \"]\n",
        "  for move in possible_moves:\n",
        "    if check_win(board, \"O\"):\n",
        "      return move\n",
        "  for move in possible_moves:\n",
        "    if check_win(board, \"X\"):\n",
        "      return move\n",
        "  return random.choice(possible_moves)\n",
        "\n",
        "def check_win(board, player):\n",
        "  win_conditions = [\n",
        "    (0, 1, 2), (3, 4, 5), (6, 7, 8),\n",
        "    (0, 3, 6), (1, 4, 7), (2, 5, 8),\n",
        "    (0, 4, 8), (2, 4, 6)\n",
        "  ]\n",
        "  for condition in win_conditions:\n",
        "    if all(board[i] == player for i in condition):\n",
        "      return True\n",
        "  return False\n",
        "\n",
        "def check_draw(board):\n",
        "  return \" \" not in board\n",
        "\n",
        "def play_game():\n",
        "  board = create_board()\n",
        "  current_player = \"X\"\n",
        "  while True:\n",
        "    display_board(board)\n",
        "    if current_player == \"X\":\n",
        "      move = get_player_move(board)\n",
        "    else:\n",
        "      move = get_computer_move(board)\n",
        "    board[move] = current_player\n",
        "    if check_win(board, current_player):\n",
        "      display_board(board)\n",
        "      print(current_player, \"wins!\")\n",
        "      break\n",
        "    if check_draw(board):\n",
        "      display_board(board)\n",
        "      print(\"It's a draw!\")\n",
        "      break\n",
        "    current_player = \"O\" if current_player == \"X\" else \"X\"\n",
        "\n",
        "play_game()"
      ]
    }
  ]
}